{
 "cells": [
  {
   "cell_type": "markdown",
   "metadata": {},
   "source": [
    "<h1>DAY 8 OF BASIC PYTHON<h1>\n",
    "<h1>OOP(Object Oriented Programming) IN PYTHON<h1>\n"
   ]
  },
  {
   "cell_type": "markdown",
   "metadata": {},
   "source": [
    "<h3>Class :-<h3>\n",
    "<p>\n",
    "In Python, a class is a blueprint for creating objects. It allows you to bundle data (attributes) and methods (functions) that operate on the data into a single unit. Here's a basic overview of how to define and use a class in Python:\n",
    "<P>"
   ]
  },
  {
   "cell_type": "markdown",
   "metadata": {},
   "source": [
    "Attributes: Variables that belong to the class<br>\n",
    "Methods: Functions that belong to the class "
   ]
  },
  {
   "cell_type": "markdown",
   "metadata": {},
   "source": [
    "\n",
    "Defining a class of name College "
   ]
  },
  {
   "cell_type": "code",
   "execution_count": 14,
   "metadata": {},
   "outputs": [],
   "source": [
    "class College:\n",
    "    # properties\n",
    "    college_name = \"VIT\"\n",
    "    college_city = \"jaipur\""
   ]
  },
  {
   "cell_type": "markdown",
   "metadata": {},
   "source": [
    "\n",
    "Creating an Object\n",
    "Once you have a class, you can create objects (instances) of that class:"
   ]
  },
  {
   "cell_type": "code",
   "execution_count": 15,
   "metadata": {},
   "outputs": [],
   "source": [
    "# object or instance\n",
    "obj1 = College()\n",
    "obj2 = College()\n",
    "obj3 = College()"
   ]
  },
  {
   "cell_type": "markdown",
   "metadata": {},
   "source": [
    "We can't excess any attribute or method without any instance of class"
   ]
  },
  {
   "cell_type": "code",
   "execution_count": 17,
   "metadata": {},
   "outputs": [
    {
     "name": "stdout",
     "output_type": "stream",
     "text": [
      "VIT\n"
     ]
    }
   ],
   "source": [
    "# print(college_name)  #can't excess without any instance of class\n",
    "print(obj1.college_name)"
   ]
  },
  {
   "cell_type": "markdown",
   "metadata": {},
   "source": [
    "\n",
    "Defining college name of obj1 again seperately"
   ]
  },
  {
   "cell_type": "code",
   "execution_count": 18,
   "metadata": {},
   "outputs": [],
   "source": [
    "obj1.college_name = \"VIT Jaipur\""
   ]
  },
  {
   "cell_type": "markdown",
   "metadata": {},
   "source": [
    "<p>\n",
    "Different object can have their independent properties as we defined them <p>"
   ]
  },
  {
   "cell_type": "code",
   "execution_count": 21,
   "metadata": {},
   "outputs": [
    {
     "name": "stdout",
     "output_type": "stream",
     "text": [
      "VIT Jaipur\n",
      "VIT\n"
     ]
    }
   ],
   "source": [
    "print(obj1.college_name)\n",
    "print(obj2.college_name)"
   ]
  }
 ],
 "metadata": {
  "kernelspec": {
   "display_name": "Python 3",
   "language": "python",
   "name": "python3"
  },
  "language_info": {
   "codemirror_mode": {
    "name": "ipython",
    "version": 3
   },
   "file_extension": ".py",
   "mimetype": "text/x-python",
   "name": "python",
   "nbconvert_exporter": "python",
   "pygments_lexer": "ipython3",
   "version": "3.12.4"
  }
 },
 "nbformat": 4,
 "nbformat_minor": 2
}
