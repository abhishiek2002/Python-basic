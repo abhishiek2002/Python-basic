{
 "cells": [
  {
   "cell_type": "code",
   "execution_count": 2,
   "metadata": {},
   "outputs": [
    {
     "name": "stdout",
     "output_type": "stream",
     "text": [
      "hello world\n"
     ]
    }
   ],
   "source": [
    "# ipynb extension used for jupyter notebook\n",
    "\n",
    "# ctrl + enter for short key to run "
   ]
  },
  {
   "cell_type": "code",
   "execution_count": 5,
   "metadata": {},
   "outputs": [
    {
     "name": "stdout",
     "output_type": "stream",
     "text": [
      "oye chal gyi\n",
      "maja aa gya\n"
     ]
    }
   ],
   "source": [
    "print(\"oye chal gyi\")\n",
    "print(\"maja aa gya\")\n"
   ]
  },
  {
   "cell_type": "code",
   "execution_count": 6,
   "metadata": {},
   "outputs": [
    {
     "name": "stdout",
     "output_type": "stream",
     "text": [
      "Python 3.12.4\n"
     ]
    }
   ],
   "source": [
    "!python --version"
   ]
  },
  {
   "cell_type": "markdown",
   "metadata": {},
   "source": [
    "<h1> Start Of day 8 <h1>\n",
    "<h2>EXCEPTIONAL HANDLING <h2>"
   ]
  },
  {
   "cell_type": "code",
   "execution_count": 7,
   "metadata": {},
   "outputs": [
    {
     "name": "stdout",
     "output_type": "stream",
     "text": [
      "My name is :  Abhishek  and i am  22  year old\n"
     ]
    }
   ],
   "source": [
    "name = input(\"Plz enter your name : \")\n",
    "age = int(input(\"Plz enter your age\"))\n",
    "\n",
    "print(\"My name is : \",name , \" and i am \",age,\" year old\")"
   ]
  },
  {
   "cell_type": "code",
   "execution_count": null,
   "metadata": {},
   "outputs": [],
   "source": [
    "# error can be two type\n",
    "# 1. compile\n",
    "# 2. running\n",
    "\n",
    "# exception :- it is unwanted situation or unexpected situation that disturb the flow of program"
   ]
  },
  {
   "cell_type": "markdown",
   "metadata": {},
   "source": [
    "if we input wrong then error come \n",
    "for eg :- enter age twenty seven instead of 27\n",
    "so because of it execution of other important remaining line of code interrupted\n",
    "\n",
    "Therefore we use exceptional handling."
   ]
  },
  {
   "cell_type": "code",
   "execution_count": null,
   "metadata": {},
   "outputs": [],
   "source": [
    "name = input(\"Plz enter your name : \")\n",
    "age = int(input(\"Plz enter your age\"))\n",
    "\n",
    "print(\"My name is : \",name , \" and i am \",age,\" year old\")\n",
    "print(\"important line 1\")\n",
    "print(\"important line 2\")\n",
    "print(\"important line 3\")\n",
    "print(\"important line 4\")\n"
   ]
  },
  {
   "cell_type": "code",
   "execution_count": null,
   "metadata": {},
   "outputs": [],
   "source": [
    "# exceptional handling \n",
    "# try , except , else , finally"
   ]
  },
  {
   "cell_type": "markdown",
   "metadata": {},
   "source": [
    "<p>\n",
    "syntax of exceptional handling :-\n",
    "\n",
    "    try:\n",
    "        code.... ( that can give exceptional)\n",
    "    except:\n",
    "        code.... (this code will run if code within \"try\" give error)\n",
    "    else:\n",
    "        code.... (this code will run if code under \"try\" did not give eror)\n",
    "    finally:\n",
    "        code.... (important code that need to be run even if error occured or not)\n",
    "\n",
    "    other code (this code will run even if \"try\" give error)\n",
    "<p>"
   ]
  },
  {
   "cell_type": "code",
   "execution_count": 12,
   "metadata": {},
   "outputs": [
    {
     "name": "stdout",
     "output_type": "stream",
     "text": [
      "abhi\n",
      "error is occured\n",
      "i am always\n",
      "important line 1\n",
      "important line 2\n",
      "important line 3\n",
      "important line 4\n"
     ]
    }
   ],
   "source": [
    "try:\n",
    "    name = input(\"Plz enter your name : \")\n",
    "    print(name)\n",
    "    age = int(input(\"Plz enter your age\")) #doubtfull line\n",
    "\n",
    "    print(\"My name is : \",name , \" and i am \",age,\" year old\")\n",
    "\n",
    "except: #yes\n",
    "    print(\"error is occured\")\n",
    "else: #no\n",
    "    print(\"error is not occured\")\n",
    "finally:  #always\n",
    "    print(\"i am always\")\n",
    "\n",
    "print(\"important line 1\")\n",
    "print(\"important line 2\")\n",
    "print(\"important line 3\")\n",
    "print(\"important line 4\")"
   ]
  },
  {
   "cell_type": "markdown",
   "metadata": {},
   "source": [
    "<h2> You can also handle multiple exceptions:<h2>\n"
   ]
  },
  {
   "cell_type": "markdown",
   "metadata": {},
   "source": [
    "<P>\n",
    "Like  in below example, if error is IndexError then code within \"except IndexError\" will run otherwise another except code will run where \"e\" denotes type of Exception error<p>"
   ]
  },
  {
   "cell_type": "code",
   "execution_count": 4,
   "metadata": {},
   "outputs": [
    {
     "name": "stdout",
     "output_type": "stream",
     "text": [
      "An error occurred: list index out of range\n"
     ]
    }
   ],
   "source": [
    "try:\n",
    "    my_list = [1, 2, 3]\n",
    "    print(my_list[5])\n",
    "except IndexError:\n",
    "    print(\"Index out of range.\")\n",
    "except Exception as e:\n",
    "    print(f\"An error occurred: {e}\")\n"
   ]
  },
  {
   "cell_type": "markdown",
   "metadata": {},
   "source": [
    "<h2>Type of exceptional </h2>\n",
    "<p>IndexError<br>\n",
    "NameError<br>\n",
    "KeyError<br>\n",
    "ZeroDivisionError<br>\n",
    "SyntaxError<br>\n",
    "TypeError<br>\n",
    "ValueError<br>\n",
    "AttributeError<br>\n",
    "IndentationError<br>\n",
    "ModuleNotFoundError<br>\n",
    "FileExistsError<br>\n",
    "FileNotFoundError</P>"
   ]
  },
  {
   "cell_type": "markdown",
   "metadata": {},
   "source": [
    "IndexError :- Raised when trying to access an index that is out of range."
   ]
  },
  {
   "cell_type": "code",
   "execution_count": 13,
   "metadata": {},
   "outputs": [
    {
     "ename": "IndexError",
     "evalue": "list index out of range",
     "output_type": "error",
     "traceback": [
      "\u001b[1;31m---------------------------------------------------------------------------\u001b[0m",
      "\u001b[1;31mIndexError\u001b[0m                                Traceback (most recent call last)",
      "Cell \u001b[1;32mIn[13], line 2\u001b[0m\n\u001b[0;32m      1\u001b[0m ls\u001b[38;5;241m=\u001b[39m[\u001b[38;5;241m1\u001b[39m,\u001b[38;5;241m2\u001b[39m,\u001b[38;5;241m3\u001b[39m,\u001b[38;5;241m4\u001b[39m,\u001b[38;5;241m5\u001b[39m]\n\u001b[1;32m----> 2\u001b[0m \u001b[43mls\u001b[49m\u001b[43m[\u001b[49m\u001b[38;5;241;43m8\u001b[39;49m\u001b[43m]\u001b[49m\n",
      "\u001b[1;31mIndexError\u001b[0m: list index out of range"
     ]
    }
   ],
   "source": [
    "my_list = [1, 2, 3]\n",
    "print(my_list[5])  # IndexError: list index out of range"
   ]
  },
  {
   "cell_type": "markdown",
   "metadata": {},
   "source": [
    "KeyError :- Raised when trying to access a dictionary key that does not exist."
   ]
  },
  {
   "cell_type": "code",
   "execution_count": 1,
   "metadata": {},
   "outputs": [
    {
     "ename": "KeyError",
     "evalue": "'age'",
     "output_type": "error",
     "traceback": [
      "\u001b[1;31m---------------------------------------------------------------------------\u001b[0m",
      "\u001b[1;31mKeyError\u001b[0m                                  Traceback (most recent call last)",
      "Cell \u001b[1;32mIn[1], line 2\u001b[0m\n\u001b[0;32m      1\u001b[0m my_dict \u001b[38;5;241m=\u001b[39m {\u001b[38;5;124m\"\u001b[39m\u001b[38;5;124mname\u001b[39m\u001b[38;5;124m\"\u001b[39m: \u001b[38;5;124m\"\u001b[39m\u001b[38;5;124mAlice\u001b[39m\u001b[38;5;124m\"\u001b[39m}\n\u001b[1;32m----> 2\u001b[0m \u001b[38;5;28mprint\u001b[39m(\u001b[43mmy_dict\u001b[49m\u001b[43m[\u001b[49m\u001b[38;5;124;43m\"\u001b[39;49m\u001b[38;5;124;43mage\u001b[39;49m\u001b[38;5;124;43m\"\u001b[39;49m\u001b[43m]\u001b[49m)  \u001b[38;5;66;03m# KeyError: 'age'\u001b[39;00m\n",
      "\u001b[1;31mKeyError\u001b[0m: 'age'"
     ]
    }
   ],
   "source": [
    "my_dict = {\"name\": \"Alice\"}\n",
    "print(my_dict[\"age\"])  # KeyError: 'age'"
   ]
  },
  {
   "cell_type": "markdown",
   "metadata": {},
   "source": [
    "ValueError :- Raised when a function receives an argument of the right type but inappropriate value."
   ]
  },
  {
   "cell_type": "code",
   "execution_count": 2,
   "metadata": {},
   "outputs": [
    {
     "ename": "ValueError",
     "evalue": "invalid literal for int() with base 10: 'abc'",
     "output_type": "error",
     "traceback": [
      "\u001b[1;31m---------------------------------------------------------------------------\u001b[0m",
      "\u001b[1;31mValueError\u001b[0m                                Traceback (most recent call last)",
      "Cell \u001b[1;32mIn[2], line 1\u001b[0m\n\u001b[1;32m----> 1\u001b[0m \u001b[38;5;28;43mint\u001b[39;49m\u001b[43m(\u001b[49m\u001b[38;5;124;43m\"\u001b[39;49m\u001b[38;5;124;43mabc\u001b[39;49m\u001b[38;5;124;43m\"\u001b[39;49m\u001b[43m)\u001b[49m  \u001b[38;5;66;03m# ValueError: invalid literal for int() with base 10: 'abc'\u001b[39;00m\n",
      "\u001b[1;31mValueError\u001b[0m: invalid literal for int() with base 10: 'abc'"
     ]
    }
   ],
   "source": [
    "int(\"abc\")  # ValueError: invalid literal for int() with base 10: 'abc'"
   ]
  },
  {
   "cell_type": "markdown",
   "metadata": {},
   "source": [
    "TypeError :- Raised when an operation or function is applied to an object of inappropriate type."
   ]
  },
  {
   "cell_type": "code",
   "execution_count": null,
   "metadata": {},
   "outputs": [],
   "source": [
    "5 + \"10\"  # TypeError: unsupported operand type(s) for +: 'int' and 'str'\n"
   ]
  },
  {
   "cell_type": "markdown",
   "metadata": {},
   "source": [
    "AttributeError :- Raised when an invalid attribute reference is made."
   ]
  },
  {
   "cell_type": "code",
   "execution_count": null,
   "metadata": {},
   "outputs": [],
   "source": [
    "my_list = [1, 2, 3]\n",
    "my_list.appendd(4)  # AttributeError: 'list' object has no attribute 'appendd'\n"
   ]
  },
  {
   "cell_type": "markdown",
   "metadata": {},
   "source": [
    "ZeroDivisionError :- Raised when a division or modulo operation is performed with zero as the divisor"
   ]
  },
  {
   "cell_type": "code",
   "execution_count": null,
   "metadata": {},
   "outputs": [],
   "source": [
    "10 / 0  # ZeroDivisionError: division by zero\n"
   ]
  },
  {
   "cell_type": "markdown",
   "metadata": {},
   "source": [
    "FileNotFoundError :- Raised when trying to open a file that does not exist."
   ]
  },
  {
   "cell_type": "code",
   "execution_count": null,
   "metadata": {},
   "outputs": [],
   "source": [
    "open(\"non_existent_file.txt\")  # FileNotFoundError: [Errno 2] No such file or directory: 'non_existent_file.txt'\n"
   ]
  },
  {
   "cell_type": "markdown",
   "metadata": {},
   "source": [
    "ImportError :- Raised when an import statement fails to find the module definition or cannot load the module."
   ]
  },
  {
   "cell_type": "code",
   "execution_count": 14,
   "metadata": {},
   "outputs": [
    {
     "ename": "ModuleNotFoundError",
     "evalue": "No module named 'manager'",
     "output_type": "error",
     "traceback": [
      "\u001b[1;31m---------------------------------------------------------------------------\u001b[0m",
      "\u001b[1;31mModuleNotFoundError\u001b[0m                       Traceback (most recent call last)",
      "Cell \u001b[1;32mIn[14], line 1\u001b[0m\n\u001b[1;32m----> 1\u001b[0m \u001b[38;5;28;01mimport\u001b[39;00m \u001b[38;5;21;01mmanager\u001b[39;00m\n",
      "\u001b[1;31mModuleNotFoundError\u001b[0m: No module named 'manager'"
     ]
    }
   ],
   "source": [
    "import pata_nhi\n",
    "\n",
    "# module not found error because module not exist"
   ]
  },
  {
   "cell_type": "markdown",
   "metadata": {},
   "source": [
    "IndentationError :- Raised when there is an incorrect indentation."
   ]
  },
  {
   "cell_type": "code",
   "execution_count": null,
   "metadata": {},
   "outputs": [],
   "source": [
    "def my_function():\n",
    "print(\"Hello\")  # IndentationError: expected an indented block\n"
   ]
  },
  {
   "cell_type": "markdown",
   "metadata": {},
   "source": [
    "SyntaxError :- Raised when there is a syntax error in the code."
   ]
  },
  {
   "cell_type": "code",
   "execution_count": null,
   "metadata": {},
   "outputs": [],
   "source": [
    "eval('x === x')  # SyntaxError: invalid syntax\n"
   ]
  }
 ],
 "metadata": {
  "kernelspec": {
   "display_name": "Python 3",
   "language": "python",
   "name": "python3"
  },
  "language_info": {
   "codemirror_mode": {
    "name": "ipython",
    "version": 3
   },
   "file_extension": ".py",
   "mimetype": "text/x-python",
   "name": "python",
   "nbconvert_exporter": "python",
   "pygments_lexer": "ipython3",
   "version": "3.12.4"
  }
 },
 "nbformat": 4,
 "nbformat_minor": 2
}
