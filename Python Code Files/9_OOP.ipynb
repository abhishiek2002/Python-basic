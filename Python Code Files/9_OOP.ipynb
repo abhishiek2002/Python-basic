{
 "cells": [
  {
   "cell_type": "markdown",
   "metadata": {},
   "source": [
    "<h2>DAY 9<h2>\n",
    "<h3>CONTINUE IN OOP CONCEPT<h3>"
   ]
  },
  {
   "cell_type": "markdown",
   "metadata": {},
   "source": [
    "Constructors :- It is kind of special function, and which used to initialize the variables.\n",
    "We don't need to call constructor.\n",
    "Constructor execute automatically when object declared."
   ]
  },
  {
   "cell_type": "code",
   "execution_count": 30,
   "metadata": {},
   "outputs": [],
   "source": [
    "class College:\n",
    "    # properties inside the class \n",
    "    # class variables\n",
    "    college_name = \"VIT\"\n",
    "    college_city = \"jaipur\"\n",
    "\n",
    "    # instance variable constructor\n",
    "    \n",
    "    # Constructors :- It is kind of special function, and which used to initialize the variables\n",
    "\n",
    "    def __init__ (self,cs_hod,ec_hod,e_hod) :  #self is a default parameter \n",
    "        # instance variables\n",
    "        self.cse_hod = cs_hod\n",
    "        self.ece_hod = ec_hod\n",
    "        self.electrical_hod =e_hod\n",
    "        self.student_marks = [25,35,45,41,42,47,49,38,39,29,46,47]\n",
    "        print(\"Constructor Called sucessfully\")\n",
    "    \n",
    "    # method declaration \n",
    "\n",
    "    def display(self):\n",
    "        print(\"My college name = \",self.college_name)\n",
    "        print(\"My CSE HOD = \",self.cse_hod)\n",
    "        print(\"My college city = \",self.college_city)\n",
    "    \n",
    "    # define function to calculte average marks of students\n",
    "\n",
    "    def average_marks(self):\n",
    "        marks = self.student_marks\n",
    "        count =0\n",
    "        sum=0\n",
    "        for item in marks:\n",
    "            count+=1\n",
    "            sum+=item\n",
    "        return sum/count\n"
   ]
  },
  {
   "cell_type": "markdown",
   "metadata": {},
   "source": [
    "We can use class variables using class name and using object of class.\n",
    "But we can't excess variables other than class variable using class name"
   ]
  },
  {
   "cell_type": "code",
   "execution_count": 25,
   "metadata": {},
   "outputs": [
    {
     "data": {
      "text/plain": [
       "'VIT'"
      ]
     },
     "execution_count": 25,
     "metadata": {},
     "output_type": "execute_result"
    }
   ],
   "source": [
    "College.college_name"
   ]
  },
  {
   "cell_type": "markdown",
   "metadata": {},
   "source": [
    "But we can't excess variables other than class variable using class name"
   ]
  },
  {
   "cell_type": "code",
   "execution_count": 26,
   "metadata": {},
   "outputs": [
    {
     "ename": "AttributeError",
     "evalue": "type object 'College' has no attribute 'cse_hod'",
     "output_type": "error",
     "traceback": [
      "\u001b[1;31m---------------------------------------------------------------------------\u001b[0m",
      "\u001b[1;31mAttributeError\u001b[0m                            Traceback (most recent call last)",
      "Cell \u001b[1;32mIn[26], line 1\u001b[0m\n\u001b[1;32m----> 1\u001b[0m \u001b[43mCollege\u001b[49m\u001b[38;5;241;43m.\u001b[39;49m\u001b[43mcse_hod\u001b[49m   \u001b[38;5;66;03m#AttributeError\u001b[39;00m\n",
      "\u001b[1;31mAttributeError\u001b[0m: type object 'College' has no attribute 'cse_hod'"
     ]
    }
   ],
   "source": [
    "College.cse_hod   #AttributeError"
   ]
  },
  {
   "cell_type": "markdown",
   "metadata": {},
   "source": [
    "Initialize instance variable of constructor during object declaration."
   ]
  },
  {
   "cell_type": "code",
   "execution_count": 31,
   "metadata": {},
   "outputs": [
    {
     "name": "stdout",
     "output_type": "stream",
     "text": [
      "Constructor Called sucessfully\n"
     ]
    }
   ],
   "source": [
    "obj1 = College(cs_hod=\"Abhishek\",ec_hod=\"Mohit\",e_hod=\"Rohit\")"
   ]
  },
  {
   "cell_type": "markdown",
   "metadata": {},
   "source": [
    "or we can excess like that (it take values in order)"
   ]
  },
  {
   "cell_type": "code",
   "execution_count": null,
   "metadata": {},
   "outputs": [
    {
     "name": "stdout",
     "output_type": "stream",
     "text": [
      "Constructor Called sucessfully\n"
     ]
    }
   ],
   "source": [
    "obj2 = College(\"Abhishek\",\"Mohit\",\"Rohit\")"
   ]
  },
  {
   "cell_type": "markdown",
   "metadata": {},
   "source": [
    "Now excess instance variable using object"
   ]
  },
  {
   "cell_type": "code",
   "execution_count": null,
   "metadata": {},
   "outputs": [
    {
     "name": "stdout",
     "output_type": "stream",
     "text": [
      "Abhishek\n",
      "Mohit\n"
     ]
    }
   ],
   "source": [
    "print(obj1.cse_hod)\n",
    "print(obj2.ece_hod)"
   ]
  },
  {
   "cell_type": "code",
   "execution_count": null,
   "metadata": {},
   "outputs": [
    {
     "name": "stdout",
     "output_type": "stream",
     "text": [
      "My college name =  VIT\n",
      "My CSE HOD =  Abhishek\n",
      "My college city =  jaipur\n"
     ]
    }
   ],
   "source": [
    "obj1.display()  "
   ]
  },
  {
   "cell_type": "markdown",
   "metadata": {},
   "source": [
    "Excessing average function "
   ]
  },
  {
   "cell_type": "code",
   "execution_count": 33,
   "metadata": {},
   "outputs": [
    {
     "name": "stdout",
     "output_type": "stream",
     "text": [
      "40.25\n"
     ]
    }
   ],
   "source": [
    "print(obj1.average_marks())"
   ]
  },
  {
   "cell_type": "markdown",
   "metadata": {},
   "source": []
  },
  {
   "cell_type": "code",
   "execution_count": 50,
   "metadata": {},
   "outputs": [],
   "source": [
    "class Hello:\n",
    "    def __init__(self) :\n",
    "        self.random_number = [52,14,25,36,96,85,74,47,58,69,25,6,45,63,67,81,9,1,7,1,2,13,1,45,44]\n",
    "\n",
    "    def even_odd(self):\n",
    "        list = self.random_number\n",
    "        even_count=0\n",
    "        odd_count=0\n",
    "        for item in list:\n",
    "            if(item%2==0):\n",
    "                even_count+=1\n",
    "            elif item%2 ==1:\n",
    "                odd_count+=1\n",
    "        print(\"even numbers are \",even_count)\n",
    "        print(\"odd numbers are \",odd_count)\n",
    "    \n",
    "    def even_avg(self):\n",
    "        list = self.random_number\n",
    "        count=0\n",
    "        sum=0\n",
    "        for item in list:\n",
    "            if(item%2==0):\n",
    "                count+=1\n",
    "                sum+=item\n",
    "        return sum/count\n",
    "        \n",
    "    def target_finder(self,item):\n",
    "        list = self.random_number\n",
    "        ans =None\n",
    "        for x in list:\n",
    "            if x == item:\n",
    "                ans = x\n",
    "        return ans"
   ]
  },
  {
   "cell_type": "code",
   "execution_count": 49,
   "metadata": {},
   "outputs": [
    {
     "name": "stdout",
     "output_type": "stream",
     "text": [
      "even numbers are  9\n",
      "odd numbers are  16\n",
      "None\n",
      "42.44444444444444\n"
     ]
    },
    {
     "ename": "AttributeError",
     "evalue": "'Hello' object has no attribute 'target_finder'",
     "output_type": "error",
     "traceback": [
      "\u001b[1;31m---------------------------------------------------------------------------\u001b[0m",
      "\u001b[1;31mAttributeError\u001b[0m                            Traceback (most recent call last)",
      "Cell \u001b[1;32mIn[49], line 4\u001b[0m\n\u001b[0;32m      2\u001b[0m \u001b[38;5;28mprint\u001b[39m(obj1\u001b[38;5;241m.\u001b[39meven_odd())\n\u001b[0;32m      3\u001b[0m \u001b[38;5;28mprint\u001b[39m(obj1\u001b[38;5;241m.\u001b[39meven_avg())\n\u001b[1;32m----> 4\u001b[0m \u001b[38;5;28mprint\u001b[39m(\u001b[43mobj1\u001b[49m\u001b[38;5;241;43m.\u001b[39;49m\u001b[43mtarget_finder\u001b[49m)\n",
      "\u001b[1;31mAttributeError\u001b[0m: 'Hello' object has no attribute 'target_finder'"
     ]
    }
   ],
   "source": [
    "obj1 = Hello()\n",
    "print(obj1.even_odd())\n",
    "print(obj1.even_avg())\n",
    "print(obj1.target_finder)"
   ]
  },
  {
   "cell_type": "code",
   "execution_count": 52,
   "metadata": {},
   "outputs": [],
   "source": [
    "class Percentage:\n",
    "    def _init__(self,m,sc,sst,eng,hin):\n",
    "        self.math_marks =m\n",
    "        self.sc_marks =sc\n",
    "        self.sst_marks =sst\n",
    "        self.eng_marka =eng\n",
    "        self.hin_marks =hin\n",
    "\n",
    "    def per(self):\n",
    "        sum = self.math_marks+self.sc_marks+self.sst_marks+self.eng_marka+self.hin_marks\n",
    "        return sum/5"
   ]
  },
  {
   "cell_type": "code",
   "execution_count": 54,
   "metadata": {},
   "outputs": [
    {
     "ename": "AttributeError",
     "evalue": "'Percentage' object has no attribute 'math_marks'",
     "output_type": "error",
     "traceback": [
      "\u001b[1;31m---------------------------------------------------------------------------\u001b[0m",
      "\u001b[1;31mAttributeError\u001b[0m                            Traceback (most recent call last)",
      "Cell \u001b[1;32mIn[54], line 2\u001b[0m\n\u001b[0;32m      1\u001b[0m obj \u001b[38;5;241m=\u001b[39m Percentage()\n\u001b[1;32m----> 2\u001b[0m \u001b[38;5;28mprint\u001b[39m(\u001b[43mobj\u001b[49m\u001b[38;5;241;43m.\u001b[39;49m\u001b[43mper\u001b[49m\u001b[43m(\u001b[49m\u001b[43m)\u001b[49m)\n",
      "Cell \u001b[1;32mIn[52], line 10\u001b[0m, in \u001b[0;36mPercentage.per\u001b[1;34m(self)\u001b[0m\n\u001b[0;32m      9\u001b[0m \u001b[38;5;28;01mdef\u001b[39;00m \u001b[38;5;21mper\u001b[39m(\u001b[38;5;28mself\u001b[39m):\n\u001b[1;32m---> 10\u001b[0m     \u001b[38;5;28msum\u001b[39m \u001b[38;5;241m=\u001b[39m \u001b[38;5;28;43mself\u001b[39;49m\u001b[38;5;241;43m.\u001b[39;49m\u001b[43mmath_marks\u001b[49m\u001b[38;5;241m+\u001b[39m\u001b[38;5;28mself\u001b[39m\u001b[38;5;241m.\u001b[39msc_marks\u001b[38;5;241m+\u001b[39m\u001b[38;5;28mself\u001b[39m\u001b[38;5;241m.\u001b[39msst_marks\u001b[38;5;241m+\u001b[39m\u001b[38;5;28mself\u001b[39m\u001b[38;5;241m.\u001b[39meng_marka\u001b[38;5;241m+\u001b[39m\u001b[38;5;28mself\u001b[39m\u001b[38;5;241m.\u001b[39mhin_marks\n\u001b[0;32m     11\u001b[0m     \u001b[38;5;28;01mreturn\u001b[39;00m \u001b[38;5;28msum\u001b[39m\u001b[38;5;241m/\u001b[39m\u001b[38;5;241m5\u001b[39m\n",
      "\u001b[1;31mAttributeError\u001b[0m: 'Percentage' object has no attribute 'math_marks'"
     ]
    }
   ],
   "source": [
    "obj = Percentage()\n",
    "print(obj.per())"
   ]
  }
 ],
 "metadata": {
  "kernelspec": {
   "display_name": "Python 3",
   "language": "python",
   "name": "python3"
  },
  "language_info": {
   "codemirror_mode": {
    "name": "ipython",
    "version": 3
   },
   "file_extension": ".py",
   "mimetype": "text/x-python",
   "name": "python",
   "nbconvert_exporter": "python",
   "pygments_lexer": "ipython3",
   "version": "3.12.4"
  }
 },
 "nbformat": 4,
 "nbformat_minor": 2
}
